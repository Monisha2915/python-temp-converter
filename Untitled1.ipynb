{
  "nbformat": 4,
  "nbformat_minor": 0,
  "metadata": {
    "colab": {
      "provenance": []
    },
    "kernelspec": {
      "name": "python3",
      "display_name": "Python 3"
    },
    "language_info": {
      "name": "python"
    }
  },
  "cells": [
    {
      "cell_type": "code",
      "execution_count": 1,
      "metadata": {
        "colab": {
          "base_uri": "https://localhost:8080/"
        },
        "id": "NKJ5K-tMmlk4",
        "outputId": "4445871c-ae18-4743-8346-c12b5d112784"
      },
      "outputs": [
        {
          "output_type": "stream",
          "name": "stdout",
          "text": [
            "Temperature Converter\n",
            "1. Celsius to Fahrenheit\n",
            "2. Fahrenheit to Celsius\n",
            "Enter choice (1 or 2): 1\n",
            "Enter temperature in Celsius: 37\n",
            "37.0°C = 98.60°F\n"
          ]
        }
      ],
      "source": [
        "# Python Temperature Converter\n",
        "# Author: Monisha\n",
        "\n",
        "# Celsius to Fahrenheit\n",
        "def celsius_to_fahrenheit(celsius):\n",
        "    return (celsius * 9/5) + 32\n",
        "\n",
        "# Fahrenheit to Celsius\n",
        "def fahrenheit_to_celsius(fahrenheit):\n",
        "    return (fahrenheit - 32) * 5/9\n",
        "\n",
        "# Menu\n",
        "print(\"Temperature Converter\")\n",
        "print(\"1. Celsius to Fahrenheit\")\n",
        "print(\"2. Fahrenheit to Celsius\")\n",
        "\n",
        "choice = input(\"Enter choice (1 or 2): \")\n",
        "\n",
        "if choice == \"1\":\n",
        "    celsius = float(input(\"Enter temperature in Celsius: \"))\n",
        "    fahrenheit = celsius_to_fahrenheit(celsius)\n",
        "    print(f\"{celsius}°C = {fahrenheit:.2f}°F\")\n",
        "elif choice == \"2\":\n",
        "    fahrenheit = float(input(\"Enter temperature in Fahrenheit: \"))\n",
        "    celsius = fahrenheit_to_celsius(fahrenheit)\n",
        "    print(f\"{fahrenheit}°F = {celsius:.2f}°C\")\n",
        "else:\n",
        "    print(\"Invalid choice!\")\n"
      ]
    }
  ]
}